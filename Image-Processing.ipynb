{
  "nbformat": 4,
  "nbformat_minor": 0,
  "metadata": {
    "colab": {
      "name": "Projeto-Final_Processamento-de-Imagens.ipynb",
      "provenance": [],
      "collapsed_sections": []
    },
    "kernelspec": {
      "name": "python3",
      "display_name": "Python 3"
    },
    "language_info": {
      "name": "python"
    }
  },
  "cells": [
    {
      "cell_type": "code",
      "metadata": {
        "id": "TBNpGqdmI6Lb"
      },
      "source": [
        "!pip install "
      ],
      "execution_count": null,
      "outputs": []
    },
    {
      "cell_type": "code",
      "metadata": {
        "id": "MhVlIAL9T9wS"
      },
      "source": [
        "import os\n",
        "import pandas as pd\n",
        "import numpy as np\n",
        "import seaborn as sns\n",
        "import cv2\n",
        "import matplotlib.pyplot as plt"
      ],
      "execution_count": null,
      "outputs": []
    },
    {
      "cell_type": "code",
      "metadata": {
        "id": "kMx6J4sFUArv",
        "colab": {
          "base_uri": "https://localhost:8080/"
        },
        "outputId": "9b91f032-2841-43c8-c9e8-a0f50b57e5ca"
      },
      "source": [
        "#Definindo diretórios;\n",
        "\n",
        "dir_geral = os.path.abspath(\"Projeto Final.ipynb\")\n",
        "dir_geral = os.path.dirname(dir_geral)\n",
        "dir_csv = os.path.join(dir_geral + \"\\\\Medical mask\\\\train.csv\")\n",
        "dir_img = os.path.join(dir_geral + \"\\\\Medical mask\\\\images\\\\\")\n",
        "dir_json = os.path.join(dir_geral+\"\\\\Medical mask\\\\meta.json\")\n",
        "print(\"Diretório geral: {} \\nDiretório CSV: {} \\nDiretório Imagem: {} \\nDiretório metadata: {}\\n\".format(dir_geral, dir_csv, dir_img, dir_json))"
      ],
      "execution_count": null,
      "outputs": [
        {
          "output_type": "stream",
          "text": [
            "Diretório geral: /content \n",
            "Diretório CSV: /content\\Medical mask\\train.csv \n",
            "Diretório Imagem: /content\\Medical mask\\images\\ \n",
            "Diretório metadata: /content\\Medical mask\\meta.json\n",
            "\n"
          ],
          "name": "stdout"
        }
      ]
    },
    {
      "cell_type": "code",
      "metadata": {
        "id": "fkXjbgMTUByF"
      },
      "source": [
        "###### PRÉ-PROCESSAMENTO DATASET-LABELS ######\n",
        "#Lendo a base com o nome das fotos e a classificação;\n",
        "\n",
        "df = pd.read_csv(dir_csv)\n",
        "df.head()"
      ],
      "execution_count": null,
      "outputs": []
    },
    {
      "cell_type": "code",
      "metadata": {
        "id": "x99p0j1PUFCA"
      },
      "source": [
        "#Excluindo linhas duplicadas, com NaN e ordenando o DataFrame pelo nome;\n",
        "\n",
        "df = df.drop_duplicates(subset = ['name'])\n",
        "df = df.dropna()\n",
        "df = df.sort_values(by = 'name')\n",
        "index = list(range(0,(len(df.index))))\n",
        "df['index'] = index\n",
        "df.reset_index(inplace = True)\n",
        "df.rename(columns = {'name':'id'}, inplace = True)\n",
        "df.set_index('index', inplace = True)\n",
        "df = df.drop(columns = ['level_0'])\n",
        "print(df)\n",
        "\n",
        "#df = df.reindex(index)\n",
        "#df = df.groupby(['classname'], as_index = False).sum()\n",
        "#print(df)"
      ],
      "execution_count": null,
      "outputs": []
    },
    {
      "cell_type": "code",
      "metadata": {
        "id": "21mRLGnLUHs5"
      },
      "source": [
        "#Identificando categorias definem as imagens de quem usa máscara ('face_with_mask', \n",
        "#'mask_colorful' e 'mask_surgical') e renomeando-as em apenas duas: 'mask' e 'no_mask';\n",
        "\n",
        "df_remove = df.loc[(df['classname'] != 'face_no_mask') & (df['classname'] != 'face_with_mask') & (df['classname'] != 'mask_colorful') & (df['classname'] != 'mask_surgical')]\n",
        "df = df.drop(df_remove.index)\n",
        "\n",
        "labels = ['mask' if ((classes == 'face_with_mask') or (classes == 'mask_colorful') or (classes == 'mask_surgical')) else 'no_mask' for classes in df['classname']]\n",
        "df['classname'] = labels\n",
        "df = df.rename(columns = {'classname': 'classification'}, index = {'name':'index'})\n",
        "\n",
        "print(df)"
      ],
      "execution_count": null,
      "outputs": []
    },
    {
      "cell_type": "code",
      "metadata": {
        "id": "RwZpSu83UKGd"
      },
      "source": [
        "#É preciso conferir se o dataset está balanceado, pra que o treinamento não seja tendencioso\n",
        "\n",
        "count_mask = 0\n",
        "\n",
        "for name in df['classification']:\n",
        "    \n",
        "    if name == 'mask':\n",
        "        count_mask += 1\n",
        "print('Tem-se: \\n\\n{} imagens de pessoas com máscaras; \\n{} imagens de pessoas sem máscara; \\n{} imagens ao todo;'.format(count_mask, (len(labels) - count_mask), len(labels)))"
      ],
      "execution_count": null,
      "outputs": []
    },
    {
      "cell_type": "code",
      "metadata": {
        "id": "sXPaOKSXUMJm"
      },
      "source": [
        "#Mais de 50% da nossa base é de pessoas com máscaras, o que pode ocasionar uma predição tendenciosa\n",
        "#para pessoas com máscara - que é o oposto do que se deseja aqui. Apesar disso, caso se tire essa \n",
        "#quantidade de dados, a perda vai ser muito grande.\n",
        "\n",
        "i = 0\n",
        "for name in df['classification']:\n",
        "    if name == 'mask':\n",
        "        count_mask += 1\n",
        "        if count_mask > 1929:\n",
        "            loc = i\n",
        "    else:\n",
        "        continue\n",
        "\n",
        "filter_balance = df[df.index > 1929]\n",
        "filter_balance = filter_balance[filter_balance['classification']=='mask']\n",
        "print(filter_balance.index.values)\n",
        "\n",
        "df = df.drop(index = filter_balance.index.values)\n",
        "#train_labels = df['classification']\n",
        "#print(train_labels)\n",
        "\n",
        "#df = df.drop(remove_25.index, axis = 0)"
      ],
      "execution_count": null,
      "outputs": []
    },
    {
      "cell_type": "code",
      "metadata": {
        "id": "OAiFJp4LUO52"
      },
      "source": [
        "#O arquivo 'Annotations' contém uma relação dos rostos presentes nas imagens e suas localizações \n",
        "#em pixels que pode ser usado como 'label' para conferir se o classificador está conseguindo \n",
        "#reconhecer a localização das faces:\n",
        "\n",
        "#Lendo o JSON 'Annotations' e realizar a seleção d\n",
        "\n",
        "import json\n",
        "\n",
        "\n",
        "def get_json(name):\n",
        "    if name.split('.')[-1]!='json':\n",
        "        name = name + '.json'\n",
        "    with open(os.path.join('Medical mask/annotations', name), 'r') as f:\n",
        "        return json.load(f)\n",
        "    \n",
        "def get_bounding_box(name):\n",
        "    \n",
        "    for j in get_json(name).get(\"Annotations\"):\n",
        "        x, y, w, h = j[\"BoundingBox\"]\n",
        "        return x, y, w, h\n",
        "\n",
        "def get_label(name):\n",
        "    for j in get_json(name).get(\"Annotations\"):\n",
        "        label = j[\"isProtected\"]\n",
        "        return label\n",
        "\n",
        "print(get_bounding_box('1801.jpg'))\n"
      ],
      "execution_count": null,
      "outputs": []
    },
    {
      "cell_type": "code",
      "metadata": {
        "id": "7dApv6C7USsf"
      },
      "source": [
        "#Relacionando o nome das imagens ao JSON de metadados das imagens, para pegar a localização \n",
        "#de cada imagem. Assim, é possível relacioná-la à sua classificação;\n",
        "###### PRÉ-PROCESSAMENTO DATASET-IMAGENS (DADOS) ######\n",
        "\n",
        "#Análise das imagens e validação dos dados com as informações adquiridas do dataset\n",
        "\n",
        "#conferindo os nomes das imagens e quais estão presentes no diretório de imagens\n",
        "notes = os.listdir(dir_geral+'\\\\Medical mask\\\\annotations')\n",
        "imgs_names = os.listdir(dir_img)\n",
        "print(len(notes))\n",
        "print(len(imgs_names))\n",
        "\n",
        "#conferindo se as 1800 primeiras imagens são mesmo 1800\n",
        "count = -1\n",
        "for img in imgs_names:\n",
        "    count += 1\n",
        "    img = img.split('.')[0]\n",
        "    if img == '1800':\n",
        "        final = count\n",
        "        break\n",
        "        \n",
        "#separando set de validação de imagem dos demais\n",
        "validation_imgs = imgs_names[:final]\n",
        "imgs_names = imgs_names[final+1:]\n",
        "\n",
        "#conferindo se há uma imagem para cada label do csv\n",
        "img_w_data = []\n",
        "for ids in df['id']:\n",
        "    ids = ids.split('.')[0]\n",
        "    for imgs in imgs_names:\n",
        "        img = imgs\n",
        "        imgs = imgs.split('.')[0]\n",
        "        if imgs == ids:\n",
        "            img_w_data.append(img)\n",
        "            break\n",
        "\n",
        "#TOTAL FILES DF 2150"
      ],
      "execution_count": null,
      "outputs": []
    },
    {
      "cell_type": "code",
      "metadata": {
        "id": "PSJ9XyE5UUpa"
      },
      "source": [
        "largura = []\n",
        "altura = []\n",
        "\n",
        "for i in img_w_data:\n",
        "    x, y, w, h = get_bounding_box(i)\n",
        "    largura.append(w - x)\n",
        "    altura.append(h - y)\n",
        "\n",
        "# calcula o valor médio das medidas de interesse.\n",
        "media_largura, media_altura = np.mean(largura), np.mean(altura)"
      ],
      "execution_count": null,
      "outputs": []
    },
    {
      "cell_type": "code",
      "metadata": {
        "id": "BjDHmmg4UWin"
      },
      "source": [
        "#Pré-processamento das imagens, recuperação da região de interesse e automação do \n",
        "#reconhecimento de faces\n",
        "\n",
        "\n",
        "#função que permite a recuperação mais fácil da imagem\n",
        "def creat_path(name):\n",
        "    path = os.path.join('Medical mask/images', name)\n",
        "    return path\n",
        "\n",
        "def padronizar_imgs(name):\n",
        "    imagem = cv2.imread(creat_path(name), cv2.IMREAD_GRAYSCALE)\n",
        "    imagem = cv2.resize(imagem, (300, 300))\n",
        "    return imagem\n",
        "\n",
        "#testando funções\n",
        "#ex1 = padronizar_imgs(img_w_data[0])\n",
        "#plt.imshow(ex1, cmap ='gray')"
      ],
      "execution_count": null,
      "outputs": []
    },
    {
      "cell_type": "code",
      "metadata": {
        "id": "R3RbolLrUX_W"
      },
      "source": [
        "for i in range(len(img_w_data)):\n",
        "    for id in df['id']:\n",
        "        if i == id:\n",
        "            x1, x2, y1, y2 = df.iloc[id]['x1','x2','y1','y2']"
      ],
      "execution_count": null,
      "outputs": []
    },
    {
      "cell_type": "code",
      "metadata": {
        "id": "85r1l32jUZwO"
      },
      "source": [
        "bbs = []\n",
        "for i in range(len(df)):\n",
        "    data = []\n",
        "    for j in df.iloc[i]:\n",
        "        data.append(j)\n",
        "    bbs.append(data)\n",
        "    \n",
        "df['boxes'] = bbs\n",
        "\n",
        "import random\n",
        "\n",
        "data = []\n",
        "labels = {'mask':0, 'no_mask':1}\n",
        "for i in df[\"id\"]:\n",
        "    lbl = get_label(i)\n",
        "    x, y, w, h = get_bounding_box(i)\n",
        "    img = padronizar_imgs(i)\n",
        "    if lbl == True:\n",
        "        data.append([img, labels['mask']])\n",
        "    if lbl == False:\n",
        "        data.append([img, labels['no_mask']])\n",
        "random.shuffle(data)"
      ],
      "execution_count": null,
      "outputs": []
    },
    {
      "cell_type": "code",
      "metadata": {
        "id": "JantmgjIUcW-"
      },
      "source": [
        "x = []\n",
        "y = []\n",
        "for features, labels in data:\n",
        "    x.append(features)\n",
        "    y.append(labels)\n",
        "\n",
        "x_train = x\n",
        "y_train = np.array(y)\n",
        "data[0][0]\n",
        "#plt.imshow(data[0][0])"
      ],
      "execution_count": null,
      "outputs": []
    },
    {
      "cell_type": "code",
      "metadata": {
        "id": "JC_KT9mZUeuY"
      },
      "source": [
        "from keras.models import Sequential\n",
        "from keras import optimizers\n",
        "from keras import backend as K\n",
        "from keras.layers import LSTM\n",
        "from keras.layers import Dense, Dropout, Activation, Flatten\n",
        "from keras.layers import Conv2D, MaxPooling2D, BatchNormalization\n",
        "from sklearn.model_selection import train_test_split\n",
        "from keras.preprocessing.image import ImageDataGenerator\n",
        "\n",
        "x = np.array(x)\n",
        "x = x.reshape(-1, 300, 300, 1)\n",
        "y = np.array(y)\n",
        "\n",
        "model = keras.Sequential()\n",
        "# Add an Embedding layer expecting input vocab of size 1000, and\n",
        "# output embedding dimension of size 64.\n",
        "model.add(layers.Embedding(input_dim=1000, output_dim=64))\n",
        "\n",
        "# Add a LSTM layer with 128 internal units.\n",
        "model.add(layers.LSTM(128))\n",
        "\n",
        "# Add a Dense layer with 10 units.\n",
        "model.add(layers.Dense(10))\n",
        "\n",
        "model.summary()\n",
        "model.fit(x, y, epochs = 10, batch_size = 5)\n"
      ],
      "execution_count": null,
      "outputs": []
    },
    {
      "cell_type": "code",
      "metadata": {
        "id": "McaeV9tqUkr_"
      },
      "source": [
        "from mtcnn import MTCNN\n",
        "\n",
        "detector = MTCNN()\n",
        "name_img = test_images[0]\n",
        "img = get_json(name_img)\n",
        "face = detector.detect_faces(img)\n",
        "for face in face:\n",
        "        bounding_box=face['box']\n",
        "        x=cv2.rectangle(img,\n",
        "              (bounding_box[0], bounding_box[1]),\n",
        "              (bounding_box[0]+bounding_box[2], bounding_box[1] + bounding_box[3]),\n",
        "              (0,155,255),\n",
        "              10)\n",
        "        plt.imshow(x)"
      ],
      "execution_count": null,
      "outputs": []
    },
    {
      "cell_type": "code",
      "metadata": {
        "id": "f3hhFD48UlV-"
      },
      "source": [
        "def draw_face(filename, result_list):\n",
        "  data = plt.imread(filename)\n",
        "  plt.imshow(data)\n",
        "  for result in result_list:\n",
        "    x, y, width, height = result['box']\n",
        "    # create the shape\n",
        "    rect = plt.Rectangle((x, y), width, height, fill=False, color='green')\n",
        "    # draw the box\n",
        "    ax.add_patch(rect)\n",
        "    # show the plot\n",
        "    plt.show()\n",
        "\n",
        "\n",
        "# filename = 'test1.jpg' # filename is defined above, otherwise uncomment\n",
        "# load image from file\n",
        "# pixels = plt.imread(filename) # defined above, otherwise uncomment\n",
        "# detector is defined above, otherwise uncomment\n",
        "#detector = mtcnn.MTCNN()\n",
        "# detect faces in the image\n",
        "faces = detector.detect_faces(pixels)\n",
        "# display faces on the original image\n",
        "draw_facebox(filename, faces)\n"
      ],
      "execution_count": null,
      "outputs": []
    }
  ]
}